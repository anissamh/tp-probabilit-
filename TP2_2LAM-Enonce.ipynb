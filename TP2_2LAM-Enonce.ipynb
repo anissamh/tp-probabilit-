{
 "cells": [
  {
   "cell_type": "markdown",
   "metadata": {},
   "source": [
    "# Simulation du jeux de LIDO simplifié"
   ]
  },
  {
   "cell_type": "markdown",
   "metadata": {},
   "source": [
    "## Principe\n",
    "On considére un jeux de Lido simple:\n",
    "on dispose d'un un seul pion.\n",
    "\n",
    "- Etape 0 :\n",
    "Le pion doit sort de sa prison lorsqu'on obtient un 6.\n",
    "\n",
    "- Etape 1 :\n",
    "Le pion doit atteindre exactement une position cible situé à N pas de distance de sa prison \n",
    "\n",
    "Soit $X_n$ la variable aléatoire qui represente le nombre de coup nécéssaire pour atteindre la positions cible.\n",
    "\n",
    "**Objectif 1** : Simuler le jeux \n",
    "\n",
    "**Objectif 2** : Calculer une estimation de l'éspérance mathématique de $X_n$ en utilisant `python`\n",
    "\n",
    "**Objéctif 3** : Observer la variation de $\\mathbb{E}(X_n)$ en fonction de $n$\n",
    "\n",
    "<img src=\"LIDO.png\">\n"
   ]
  },
  {
   "cell_type": "markdown",
   "metadata": {},
   "source": [
    "# <font color=pink>tp2</font>\n",
    "# <font color=orange>*MHIRI ANISSA*</font>\n",
    "## <font color=blue>2LM</font> "
   ]
  },
  {
   "cell_type": "code",
   "execution_count": 30,
   "metadata": {},
   "outputs": [],
   "source": [
    "import numpy as np\n",
    "#on transfor le tableau avec la fonction int() sous forme d'entier car sans elle on va avoir comme résultat un tab alors\n",
    "#q''on a besoin  d''une valeur."
   ]
  },
  {
   "cell_type": "markdown",
   "metadata": {},
   "source": [
    "### Simulation du lancé de dé"
   ]
  },
  {
   "cell_type": "code",
   "execution_count": 3,
   "metadata": {},
   "outputs": [],
   "source": [
    "def Roll():\n",
    "    return int(np.random.choice(range(1,7),1))"
   ]
  },
  {
   "cell_type": "code",
   "execution_count": 4,
   "metadata": {},
   "outputs": [
    {
     "name": "stdout",
     "output_type": "stream",
     "text": [
      "3\n",
      "3\n",
      "6\n",
      "3\n",
      "4\n",
      "1\n",
      "1\n",
      "4\n",
      "6\n",
      "1\n"
     ]
    }
   ],
   "source": [
    "for i in range(10):\n",
    "       print(Roll())"
   ]
  },
  {
   "cell_type": "markdown",
   "metadata": {},
   "source": [
    "### Compléter le code et commenter"
   ]
  },
  {
   "cell_type": "code",
   "execution_count": null,
   "metadata": {
    "scrolled": false
   },
   "outputs": [],
   "source": [
    "A=0 #la position\n",
    "NA=0 #la valeur du dé après le lancement \n",
    "N=10 #la position de la cible\n",
    "c=0 #compteur\n",
    "while (A<N) :\n",
    "    NA=Roll()\n",
    "    if NA==6 and A=0:\n",
    "        A=1\n",
    "        c=c+1\n",
    "        print(NA,A,c)\n",
    "    elif A>0 and NA+A<N:\n",
    "        A=A+NA\n",
    "        c=c+1\n",
    "        print(NA,A,c)\n",
    "    elif NA+A==N:\n",
    "        c=c+1\n",
    "        A=A+NA\n",
    "        print(NA,A,c)\n",
    "        break\n",
    "    else : #else de le première if\n",
    "        c=c+1\n",
    "        print(A,NA,c)"
   ]
  },
  {
   "cell_type": "markdown",
   "metadata": {},
   "source": [
    "### Simulation\n",
    "Ecrire une foction `sim` qui simule le jeux et qui prend comme variable le nombre de pas $n$ nécessazire pour atteindre la cible"
   ]
  },
  {
   "cell_type": "code",
   "execution_count": 8,
   "metadata": {},
   "outputs": [],
   "source": [
    "def sim(N):\n",
    "    \"\"\"Simulation jeu Ludo simple avec une grille de longueur N donnée\n",
    "    Le principe est de déterminer le nombrede coups nécessaires pour sortir de la prison et atteindre la cible. \"\"\"\n",
    "    #ça s'appelle une documentation de la formation\n",
    "    A=0\n",
    "    NA=0\n",
    "    c=0\n",
    "    while (A<N) :\n",
    "        NA=Roll()\n",
    "        if NA==6 and A==0:\n",
    "            A=1\n",
    "            c=c+1\n",
    "           \n",
    "        elif A>0 and NA+A<N:\n",
    "            A=A+NA\n",
    "            c=c+1\n",
    "            \n",
    "        elif NA+A==N:\n",
    "            c=c+1\n",
    "            A=A+NA\n",
    "           \n",
    "            break\n",
    "        else : #else de le première if\n",
    "            c=c+1\n",
    "            \n",
    "    return c"
   ]
  },
  {
   "cell_type": "code",
   "execution_count": 10,
   "metadata": {},
   "outputs": [
    {
     "data": {
      "text/plain": [
       "14"
      ]
     },
     "execution_count": 10,
     "metadata": {},
     "output_type": "execute_result"
    }
   ],
   "source": [
    "sim(20)"
   ]
  },
  {
   "cell_type": "markdown",
   "metadata": {},
   "source": [
    "### Simulation de $10^5$  scénario "
   ]
  },
  {
   "cell_type": "code",
   "execution_count": 20,
   "metadata": {},
   "outputs": [
    {
     "data": {
      "text/plain": [
       "16.05"
      ]
     },
     "execution_count": 20,
     "metadata": {},
     "output_type": "execute_result"
    }
   ],
   "source": [
    "E=1000\n",
    "N=20\n",
    "L=[]\n",
    "for i in range (E):\n",
    "    L.append(sim(N))\n",
    "L\n",
    "def moyenne(L):\n",
    "    tot=0\n",
    "    for u in L:\n",
    "        tot=tot+u\n",
    "    return tot/len(L)\n",
    "moyenne(L)\n"
   ]
  },
  {
   "cell_type": "code",
   "execution_count": 21,
   "metadata": {},
   "outputs": [],
   "source": [
    "Freq=np.fromiter((sim(20) for i in range(10**5)),dtype=int)"
   ]
  },
  {
   "cell_type": "code",
   "execution_count": 27,
   "metadata": {},
   "outputs": [],
   "source": [
    "ESP=Freq.sum()/10**2"
   ]
  },
  {
   "cell_type": "code",
   "execution_count": 28,
   "metadata": {},
   "outputs": [],
   "source": [
    "x=list(range(10,20))"
   ]
  },
  {
   "cell_type": "code",
   "execution_count": 29,
   "metadata": {},
   "outputs": [],
   "source": [
    "y=[np.fromiter((sim(u) for i in range(5*10**4)),dtype=int).sum()/50000 for u in x]"
   ]
  },
  {
   "cell_type": "code",
   "execution_count": 33,
   "metadata": {},
   "outputs": [],
   "source": [
    "import matplotlib.pyplot as plt\n",
    "xx=np.linspace(10,20,50)\n",
    "yy=0.28871527272727254*xx+10.443562545454547"
   ]
  },
  {
   "cell_type": "code",
   "execution_count": 34,
   "metadata": {},
   "outputs": [
    {
     "data": {
      "text/plain": [
       "[<matplotlib.lines.Line2D at 0x19ddcd08ac0>]"
      ]
     },
     "execution_count": 34,
     "metadata": {},
     "output_type": "execute_result"
    },
    {
     "data": {
      "image/png": "[encoded data removed]",
      "text/plain": [
       "<Figure size 432x288 with 1 Axes>"
      ]
     },
     "metadata": {
      "needs_background": "light"
     },
     "output_type": "display_data"
    }
   ],
   "source": [
    "plt.plot(x,y,'b*')\n",
    "plt.plot(xx,yy,'r')"
   ]
  },
  {
   "cell_type": "code",
   "execution_count": 35,
   "metadata": {},
   "outputs": [],
   "source": [
    "from scipy import stats\n",
    "import numpy as np\n",
    "slope, intercept, r_value, p_value, std_err = stats.linregress(x,y)"
   ]
  },
  {
   "cell_type": "code",
   "execution_count": 36,
   "metadata": {},
   "outputs": [
    {
     "data": {
      "text/plain": [
       "0.2836374545454546"
      ]
     },
     "execution_count": 36,
     "metadata": {},
     "output_type": "execute_result"
    }
   ],
   "source": [
    "slope #C''est la pente en anglais"
   ]
  },
  {
   "cell_type": "code",
   "execution_count": 37,
   "metadata": {},
   "outputs": [
    {
     "data": {
      "text/plain": [
       "10.50569490909091"
      ]
     },
     "execution_count": 37,
     "metadata": {},
     "output_type": "execute_result"
    }
   ],
   "source": [
    "intercept\n"
   ]
  },
  {
   "cell_type": "code",
   "execution_count": null,
   "metadata": {},
   "outputs": [],
   "source": []
  }
 ],
 "metadata": {
  "kernelspec": {
   "display_name": "Python 3",
   "language": "python",
   "name": "python3"
  },
  "language_info": {
   "codemirror_mode": {
    "name": "ipython",
    "version": 3
   },
   "file_extension": ".py",
   "mimetype": "text/x-python",
   "name": "python",
   "nbconvert_exporter": "python",
   "pygments_lexer": "ipython3",
   "version": "3.8.5"
  }
 },
 "nbformat": 4,
 "nbformat_minor": 4
}
